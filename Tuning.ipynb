{
  "nbformat": 4,
  "nbformat_minor": 0,
  "metadata": {
    "colab": {
      "name": "Tuning.ipynb",
      "provenance": [],
      "collapsed_sections": [],
      "authorship_tag": "ABX9TyPn5QgJymtl5vE9c4htH9Hw",
      "include_colab_link": true
    },
    "kernelspec": {
      "name": "python3",
      "display_name": "Python 3"
    }
  },
  "cells": [
    {
      "cell_type": "markdown",
      "metadata": {
        "id": "view-in-github",
        "colab_type": "text"
      },
      "source": [
        "<a href=\"https://colab.research.google.com/github/AlexisOlson/Colab/blob/master/Tuning.ipynb\" target=\"_parent\"><img src=\"https://colab.research.google.com/assets/colab-badge.svg\" alt=\"Open In Colab\"/></a>"
      ]
    },
    {
      "cell_type": "code",
      "metadata": {
        "id": "lM7ob4EbuYkm",
        "colab_type": "code",
        "colab": {}
      },
      "source": [
        "# Terminal commands to set up kernel\n",
        "####################################\n",
        "\n",
        "# Update installers\n",
        "pip install --upgrade pip\n",
        "apt-get update\n",
        "\n",
        "# Install Conda: https://medium.com/@error.replicator/setting-up-cloud-environment-for-deep-learning-febb5c408e78\n",
        "curl -O https://repo.anaconda.com/miniconda/Miniconda3-latest-Linux-x86_64.sh\n",
        "bash Miniconda3-latest-Linux-x86_64.sh\n",
        "\n",
        "########################\n",
        "### Restart terminal ###\n",
        "########################\n",
        "\n",
        "# Create new Kernel\n",
        "conda create -n bask python=3.7 ipykernel\n",
        "conda activate bask\n",
        "\n",
        "# For issues with psycopg2: stackoverflow.com/questions/35104097\n",
        "apt install -y libpq-dev postgresql-server-dev-all\n",
        "\n",
        "# Install chess-tuning-tools\n",
        "pip install chess-tuning-tools\n",
        "\n",
        "#Install compiler for lc0\n",
        "apt-get install ninja-build libprotobuf-dev protobuf-compiler\n",
        "pip install meson\n",
        "\n",
        "# Install \"bask\" kernel\n",
        "python -m ipykernel install --user --name=bask\n",
        "\n",
        "# Now create/upload a notebook"
      ],
      "execution_count": 0,
      "outputs": []
    },
    {
      "cell_type": "code",
      "metadata": {
        "id": "RDtlU8HPU2al",
        "colab_type": "code",
        "colab": {}
      },
      "source": [
        "# Set parameters\n",
        "book = \"https://github.com/killerducky/OpenBench/raw/lc0/Books/8moves_v3.pgn\"\n",
        "\n",
        "network = \"https://training.lczero.org/get_network?sha=96bbc25ba03c6fbf00f10084fb52611ffa77f85dff93009703d6089ef03c62da\"\n",
        "network_name = \"702639\"\n",
        "\n",
        "PR = \"1288\"\n",
        "\n",
        "rounds = 8"
      ],
      "execution_count": 0,
      "outputs": []
    },
    {
      "cell_type": "code",
      "metadata": {
        "id": "BTsbIHA7XjFe",
        "colab_type": "code",
        "colab": {}
      },
      "source": [
        "# Define engines.json\n",
        "\n",
        "text_file = open(\"engines.json\", \"w\")\n",
        "text_file.write(\"\"\"[\n",
        "    {\n",
        "        \"command\": \"./lc0_PR\",\n",
        "        \"initStrings\": [\n",
        "            \"setoption name Threads value 2\",\n",
        "            \"setoption name CPuctFactor value 0.0\",\n",
        "            \"setoption name CPuctFactorAtRoot value 0.0\",\n",
        "            \"setoption name PolicyFactorParent value 0.0\",\n",
        "            \"setoption name SyzygyPath value /root/tablebase.sesse.net/syzygy/3-4-5\"\n",
        "        ],\n",
        "        \"name\": \"lc0\",\n",
        "        \"protocol\": \"uci\",\n",
        "        \"workingDirectory\": \"/root\"\n",
        "    },\n",
        "    {\n",
        "        \"command\": \"./SF_11\",\n",
        "        \"initStrings\": [\n",
        "            \"setoption name Threads value 4\",\n",
        "            \"setoption name SyzygyPath value /root/tablebase.sesse.net/syzygy/3-4-5\"\n",
        "        ],\n",
        "        \"name\": \"sf\",\n",
        "        \"protocol\": \"uci\",\n",
        "        \"workingDirectory\": \"/root\"\n",
        "    }\n",
        "]\"\"\")\n",
        "text_file.close()"
      ],
      "execution_count": 0,
      "outputs": []
    },
    {
      "cell_type": "code",
      "metadata": {
        "id": "zrVQjxT1NHfe",
        "colab_type": "code",
        "colab": {}
      },
      "source": [
        "# Download Files\n",
        "################\n",
        "\n",
        "# Syzygy Endgame TB\n",
        "!wget -c --recursive --level=1 --no-parent --no-check-certificate -e robots=off -ignore robots.txt wait 1 http://tablebase.sesse.net/syzygy/3-4-5/\n",
        "\n",
        "# Network\n",
        "!wget {network} -O {network_name}\n",
        "\n",
        "# Opening Suite\n",
        "!wget {book} -O book.pgn"
      ],
      "execution_count": 0,
      "outputs": []
    },
    {
      "cell_type": "code",
      "metadata": {
        "id": "FH1YDWNlP0AV",
        "colab_type": "code",
        "colab": {}
      },
      "source": [
        "# Install Stockfish 11\n",
        "!wget https://github.com/official-stockfish/Stockfish/archive/sf_11.tar.gz\n",
        "!tar -xvf sf_11.tar.gz\n",
        "!cd Stockfish-sf_11/src && make build ARCH=x86-64-bmi2\n",
        "!cp Stockfish-sf_11/src/stockfish SF_11"
      ],
      "execution_count": 0,
      "outputs": []
    },
    {
      "cell_type": "code",
      "metadata": {
        "id": "RvTOkLlEcHKw",
        "colab_type": "code",
        "colab": {}
      },
      "source": [
        "# Use gcc 8: http://www.riccardomariabianchi.com/updating-gcc-on-ubuntu.html\n",
        "\n",
        "\n",
        "# Install Lc0\n",
        "!rm -rf lc0\n",
        "!git clone --recurse-submodules https://github.com/LeelaChessZero/lc0.git\n",
        "!cd lc0 && git fetch origin pull/{PR}/head:PR{PR}\n",
        "!cd lc0 && git checkout {PR}\n",
        "!cd lc0 && git submodule update --init --remote\n",
        "!cd lc0 && rm -rf build\n",
        "!cd lc0 && mkdir -p build\n",
        "!cd lc0 && meson build --buildtype release -Dblas=false -Dopencl=false -Dcudnn=true -Dgtest=false\n",
        "!cd lc0/build && ninja\n",
        "!cp lc0/build/lc0 lc0_PR"
      ],
      "execution_count": 0,
      "outputs": []
    },
    {
      "cell_type": "markdown",
      "metadata": {
        "id": "5ry0PLFUBRV_",
        "colab_type": "text"
      },
      "source": [
        "## Useful I/O and plotting stuff"
      ]
    },
    {
      "cell_type": "code",
      "metadata": {
        "id": "tYo2wAuVLiyt",
        "colab_type": "code",
        "colab": {}
      },
      "source": [
        "import sys\n",
        "print(sys.version)"
      ],
      "execution_count": 0,
      "outputs": []
    },
    {
      "cell_type": "code",
      "metadata": {
        "id": "Rt4MUT26NxrA",
        "colab_type": "code",
        "colab": {}
      },
      "source": [
        "pip install git+https://github.com/kiudee/bayes-skopt"
      ],
      "execution_count": 0,
      "outputs": []
    },
    {
      "cell_type": "code",
      "metadata": {
        "id": "-8uqkAhjBRWA",
        "colab_type": "code",
        "colab": {}
      },
      "source": [
        "%matplotlib notebook\n",
        "import numpy as np\n",
        "import bask\n",
        "\n",
        "from bask import geometric_median"
      ],
      "execution_count": 0,
      "outputs": []
    },
    {
      "cell_type": "markdown",
      "metadata": {
        "id": "zseL350UBRWG",
        "colab_type": "text"
      },
      "source": [
        "Utility functions to set UCI parameters"
      ]
    },
    {
      "cell_type": "code",
      "metadata": {
        "id": "10Pxzx-NBRWH",
        "colab_type": "code",
        "colab": {}
      },
      "source": [
        "import json\n",
        "from tune.io import InitStrings\n",
        "def set_params_dict(filepath, engine_index, uci_params):\n",
        "    with open(filepath, \"r\") as file:\n",
        "        js = json.load(file)\n",
        "    #subprocess.run([\"rm\", \"engines.json\"])\n",
        "    \n",
        "    engine = js[engine_index]\n",
        "    initstr = InitStrings(engine['initStrings'])\n",
        "    \n",
        "    for k, v in uci_params.items():\n",
        "        initstr[k] = v\n",
        "    subprocess.run([\"rm\", \"engines.json\"])\n",
        "    with open(filepath, 'w') as file:\n",
        "        json.dump(js, file, sort_keys=True, indent=4)\n",
        "\n",
        "def parse_results(ordo_str):\n",
        "    lines = ordo_str.split(\"\\n\")[2:4]\n",
        "    results = dict()\n",
        "    for line in lines:\n",
        "        sp = line.split()\n",
        "        name = sp[1]\n",
        "        rating = float(sp[3])\n",
        "        results[name] = rating\n",
        "    return results"
      ],
      "execution_count": 0,
      "outputs": []
    },
    {
      "cell_type": "markdown",
      "metadata": {
        "id": "2xzr-vIFBRWP",
        "colab_type": "text"
      },
      "source": [
        "This is the code to run and parse an experiment"
      ]
    },
    {
      "cell_type": "code",
      "metadata": {
        "id": "s4BhMXZFBRWQ",
        "colab_type": "code",
        "colab": {}
      },
      "source": [
        "import subprocess\n",
        "import itertools\n",
        "from scipy.stats import norm\n",
        "from scipy.stats import dirichlet\n",
        "import scipy.stats as st\n",
        "import re\n",
        "\n",
        "def run_experiment(rounds=2):\n",
        "    subprocess.run([\"rm\", \"out.pgn\"])\n",
        "    \n",
        "    st = [\"cutechess-cli/cutechess-cli\",\n",
        "          \"-concurrency\", \"1\",\n",
        "          \"-engine\", \"conf=lc0\", f\"tc=12+0.2\",\n",
        "          \"-engine\", \"conf=sf\", f\"tc=6+0.1\",\n",
        "          \"-openings\", \"file=book.pgn\", \"format=pgn\", \"order=random\",\n",
        "          \"-draw\", \"movenumber=50\", \"movecount=8\", \"score=8\",\n",
        "          \"-resign\", \"movecount=8\", \"score=800\",\n",
        "          \"-rounds\", f\"{rounds}\",\n",
        "          \"-repeat\",\n",
        "          \"-games\", \"2\",\n",
        "          \"-tb\", \"/root/tablebase.sesse.net/syzygy/3-4-5/\",\n",
        "          \"-pgnout\", \"out.pgn\"\n",
        "    ]\n",
        "    out = subprocess.run(st, capture_output=True)\n",
        "    return out\n",
        "\n",
        "def parse_experiment(out):\n",
        "    lines = out.stdout.decode(\"utf-8\").split(\"\\n\")\n",
        "    last_output = lines[-4]\n",
        "    result = re.findall(\"[0-9]+\\s-\\s[0-9]+\\s-\\s[0-9]+\", last_output)[0]\n",
        "    w, l, d = [float(x) for x in re.findall(\"[0-9]+\", result)]\n",
        "    total = w + d + l\n",
        "\n",
        "    draw_rate = 0.2717\n",
        "    prior_obs = 1.5\n",
        "    wl_prior = (1-draw_rate) * prior_obs / 2\n",
        "    dist = dirichlet(alpha=[wl_prior + w,\n",
        "                            wl_prior + l,\n",
        "                            draw_rate * prior_obs + d])\n",
        "    raw = dist.mean().dot([-1.0, 1.0, 0.0])\n",
        "    return raw * (prior_obs + total) / total"
      ],
      "execution_count": 0,
      "outputs": []
    },
    {
      "cell_type": "code",
      "metadata": {
        "id": "n8C6rq1ihaO_",
        "colab_type": "code",
        "colab": {}
      },
      "source": [
        ""
      ],
      "execution_count": 0,
      "outputs": []
    },
    {
      "cell_type": "markdown",
      "metadata": {
        "id": "0xN0CQRMBRWY",
        "colab_type": "text"
      },
      "source": [
        "## Specify the optimization"
      ]
    },
    {
      "cell_type": "markdown",
      "metadata": {
        "id": "l69m-b9mBRWZ",
        "colab_type": "text"
      },
      "source": [
        "Now we specify the optimization parameters and their ranges:"
      ]
    },
    {
      "cell_type": "code",
      "metadata": {
        "id": "GufcXZEjBRWa",
        "colab_type": "code",
        "colab": {}
      },
      "source": [
        "from skopt.learning.gaussian_process.kernels import Matern, ConstantKernel\n",
        "from scipy.stats import beta, gamma, invgamma, uniform, halfnorm\n",
        "from skopt.space import Real, Integer\n",
        "def roundflat(x, a_low=2.0, a_high=8.0, d_low=0.005, d_high=1.2):\n",
        "    return -2 * ((x/d_low)**(-2*a_low) + (x/d_high)**(2*a_high))\n",
        "parameters = [\"PolicyFactor\", \"PolicyExponent\", \"Cpuct\", \"FpuValue\", \"PolicyTemperature\"]\n",
        "dimensions = (\n",
        "    Real(low=0, high=1, transform='normalize'), # PolicyFactor\n",
        "#   Real(low=0, high=1, transform='normalize'), # PolicyFactorParent\n",
        "    Real(low=0, high=8, transform='normalize'), # PolicyExponent\n",
        "    Real(low=0, high=4, transform='normalize'), # Cpuct\n",
        "    Real(low=0, high=2, transform='normalize'), # FpuValue\n",
        "    Real(low=0, high=2, transform='normalize')  # PolicyTemperature\n",
        ")\n",
        "priors = [\n",
        "    lambda x: halfnorm(scale=1.).logpdf(np.sqrt(np.exp(x))) + x / 2.0 - np.log(2.0),\n",
        "    lambda x: roundflat(np.exp(x), d_low=0.005, d_high=0.8) + x,\n",
        "    lambda x: roundflat(np.exp(x), d_low=0.005, d_high=0.8) + x,\n",
        "    lambda x: roundflat(np.exp(x), d_low=0.005, d_high=0.8) + x,\n",
        "    lambda x: roundflat(np.exp(x), d_low=0.005, d_high=0.8) + x,\n",
        "    lambda x: roundflat(np.exp(x), d_low=0.005, d_high=0.8) + x,\n",
        "    lambda x: halfnorm(scale=0.4).logpdf(np.sqrt(np.exp(x))) + \n",
        "    x / 2.0 - np.log(2.0)\n",
        "]\n",
        "kernel = (\n",
        "    ConstantKernel(constant_value=0.0157**2, constant_value_bounds=(0.01**2, 0.2**2))\n",
        "    * Matern(length_scale=np.ones(len(dimensions))*0.3, length_scale_bounds=(0.1,0.8),nu=1.5)\n",
        ")"
      ],
      "execution_count": 0,
      "outputs": []
    },
    {
      "cell_type": "markdown",
      "metadata": {
        "id": "QAlTHeswBRWh",
        "colab_type": "text"
      },
      "source": [
        "Now we create an optimizer, which will utilize the kernel and the priors to efficiently explore the parameter space:"
      ]
    },
    {
      "cell_type": "code",
      "metadata": {
        "id": "r-RdvBcWBRWi",
        "colab_type": "code",
        "colab": {}
      },
      "source": [
        "from bask import Optimizer\n",
        "random_state = np.random.RandomState(123)\n",
        "\n",
        "opt = Optimizer(\n",
        "    dimensions=dimensions,\n",
        "    n_points=750,\n",
        "    n_initial_points=30,\n",
        "    gp_kernel=kernel,\n",
        "    gp_kwargs=dict(normalize_y=True),\n",
        "    gp_priors=priors,\n",
        "    acq_func=\"pvrs\",\n",
        "    acq_func_kwargs=dict(n_thompson=20),\n",
        "    random_state=random_state\n",
        ")"
      ],
      "execution_count": 0,
      "outputs": []
    },
    {
      "cell_type": "markdown",
      "metadata": {
        "id": "WJmqt4LcBRWn",
        "colab_type": "text"
      },
      "source": [
        "Initialize the lists containing the evaluated points and their scores. We also define a filename in which to save X and y (to resume if necessary)."
      ]
    },
    {
      "cell_type": "code",
      "metadata": {
        "id": "80tMPzT5BRWo",
        "colab_type": "code",
        "colab": {}
      },
      "source": [
        "X = []\n",
        "y = []\n",
        "iteration = len(X)\n",
        "filename = 'filename.npz'"
      ],
      "execution_count": 0,
      "outputs": []
    },
    {
      "cell_type": "markdown",
      "metadata": {
        "id": "pWwpFcUYBRWu",
        "colab_type": "text"
      },
      "source": [
        "Should we need to resume, we can do so here:"
      ]
    },
    {
      "cell_type": "code",
      "metadata": {
        "id": "D46A4yEmmwwM",
        "colab_type": "code",
        "colab": {}
      },
      "source": [
        "importa = np.load(filename)\n",
        "X = importa['arr_0'].tolist()\n",
        "y = importa['arr_1'].tolist()\n",
        "iteration = len(X)\n",
        "print(iteration)\n",
        "\n",
        "# Initialize the optimizer again\n",
        "opt.tell(X, y, gp_burnin=200, gp_samples=300, n_samples=0, progress=True);\n",
        "#opt.gp.sample(n_burnin=100, priors=priors);\n",
        "opt.gp.kernel_"
      ],
      "execution_count": 0,
      "outputs": []
    },
    {
      "cell_type": "code",
      "metadata": {
        "id": "HC9f3VBAm5Ma",
        "colab_type": "code",
        "colab": {}
      },
      "source": [
        ""
      ],
      "execution_count": 0,
      "outputs": []
    },
    {
      "cell_type": "markdown",
      "metadata": {
        "id": "Fa_8X55gBRXJ",
        "colab_type": "text"
      },
      "source": [
        "## Optimization loop\n",
        "Main optimization loop (can be cancelled and resumed by stopping)"
      ]
    },
    {
      "cell_type": "code",
      "metadata": {
        "id": "ClxJzdRMBRXK",
        "colab_type": "code",
        "colab": {}
      },
      "source": [
        "last_iteration = 0"
      ],
      "execution_count": 0,
      "outputs": []
    },
    {
      "cell_type": "code",
      "metadata": {
        "id": "oU3rd5lenZ6s",
        "colab_type": "code",
        "colab": {}
      },
      "source": [
        "mkdir plots"
      ],
      "execution_count": 0,
      "outputs": []
    },
    {
      "cell_type": "code",
      "metadata": {
        "id": "dE8SHMyqBRXO",
        "colab_type": "code",
        "colab": {}
      },
      "source": [
        "from skopt import Space\n",
        "from skopt.space import Real\n",
        "from skopt.learning.gaussian_process.kernels import ConstantKernel\n",
        "from skopt.utils import create_result, normalize_dimensions\n",
        "from tune.plots import plot_objective\n",
        "import matplotlib.pyplot as plt\n",
        "import time\n",
        "from datetime import datetime\n",
        "import warnings\n",
        "warnings.filterwarnings(action='ignore')\n",
        "while True:\n",
        "    # Plot the current model:\n",
        "    print(f\"\\nStart iteration {iteration}\")\n",
        "    if iteration >= 30 and iteration - last_iteration >= 5:\n",
        "        last_iteration = iteration\n",
        "        plt.style.use('dark_background')\n",
        "        space = normalize_dimensions(dimensions)\n",
        "        fig, ax = plt.subplots(nrows=space.n_dims, ncols=space.n_dims,\n",
        "                               figsize=(3 * space.n_dims, 3 * space.n_dims))\n",
        "        fig.patch.set_facecolor('#36393f')\n",
        "        for i in range(space.n_dims):\n",
        "            for j in range(space.n_dims):\n",
        "                ax[i, j].set_facecolor('#36393f')\n",
        "        warnings.filterwarnings(action='ignore')\n",
        "        timestr = time.strftime(\"%Y%m%d-%H%M%S\")\n",
        "        space = normalize_dimensions(dimensions)\n",
        "        #set_theta(geometric_median(sample_dict['flatchain']), sample_dict['gp'])\n",
        "        result_object = create_result(Xi=X, yi=y, space=space, models=[opt.gp])\n",
        "        plot_objective(result_object, levels=20, size=3, n_points=200, n_samples=30,\n",
        "                   dimensions=parameters, alpha=0.25,\n",
        "                fig=fig, ax=ax);\n",
        "        try:\n",
        "            plt.savefig(f\"plots/{timestr}-{iteration}.png\", pad_inches=0.1, dpi=300, bbox_inches=\"tight\")\n",
        "        except:\n",
        "            pass\n",
        "        plt.close()\n",
        "    \n",
        "    # Actual optimization loop starts here:\n",
        "    point = opt.ask()\n",
        "    print(\"Testing {}\".format(point))\n",
        "    \n",
        "    # Here we need to pass the parameters to the experiment:\n",
        "    set_params_dict('engines.json', engine_index=0, uci_params=dict(zip(parameters, point)))\n",
        "    \n",
        "    # The actual experiment\n",
        "    print(\"Start experiment\")\n",
        "    now = datetime.now()\n",
        "    out_exp = run_experiment(rounds=10)\n",
        "    later = datetime.now()\n",
        "    difference = (later - now).total_seconds()\n",
        "    print(f\"Experiment finished ({difference}s)\")\n",
        "    score = parse_experiment(out_exp)\n",
        "    \n",
        "    # We update the model here:\n",
        "    while True:\n",
        "        try:\n",
        "            now = datetime.now()\n",
        "            if opt.gp.chain_ is None:\n",
        "                opt.tell(point, score, n_samples=0, gp_samples=300, gp_burnin=200)\n",
        "            else:\n",
        "                opt.tell(point, score, n_samples=0, gp_samples=300, gp_burnin=10)\n",
        "            later = datetime.now()\n",
        "            difference = (later - now).total_seconds()\n",
        "            print(f\"GP sampling finished ({difference}s)\")\n",
        "        except ValueError:\n",
        "            opt.gp.sample(n_burnin=100, priors=priors)\n",
        "        else:\n",
        "            break\n",
        "    print(opt.gp.kernel_)\n",
        "    print(\"Got score: {}\".format(score))\n",
        "    X.append(point)\n",
        "    y.append(score)\n",
        "    iteration = len(X)\n",
        "    np.savez_compressed(filename, np.array(X), np.array(y))"
      ],
      "execution_count": 0,
      "outputs": []
    }
  ]
}